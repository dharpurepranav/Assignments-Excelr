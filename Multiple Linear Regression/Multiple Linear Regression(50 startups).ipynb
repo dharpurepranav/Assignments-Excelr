{
 "cells": [
  {
   "cell_type": "markdown",
   "id": "89a2e205",
   "metadata": {},
   "source": [
    "Importing Required Libraries"
   ]
  },
  {
   "cell_type": "code",
   "execution_count": 1,
   "id": "50a77e00",
   "metadata": {},
   "outputs": [],
   "source": [
    "import numpy as np \n",
    "import pandas as pd\n",
    "import seaborn as sns\n",
    "import matplotlib.pyplot as plt\n",
    "%matplotlib inline\n",
    "import scipy.stats as stat\n",
    "import statsmodels.api as smf\n",
    "import statsmodels.formula.api as sm\n",
    "from statsmodels.graphics.regressionplots import influence_plot\n",
    "import warnings\n",
    "warnings.filterwarnings('ignore')"
   ]
  },
  {
   "cell_type": "markdown",
   "id": "b8ff5a07",
   "metadata": {},
   "source": [
    "Problem Statement:\n",
    "\n",
    "- Prepare a prediction model for profit of 50_startups data.\n",
    "\n",
    "- Do transformations for getting better predictions of profit and make a table containing R^2 value for each prepared model.\n",
    "\n",
    "- R&D Spend -- Research and devolop spend in the past few years\n",
    "- Administration -- spend on administration in the past few years\n",
    "- Marketing Spend -- spend on Marketing in the past few years\n",
    "- State -- states from which data is collected\n",
    "- Profit -- profit of each state in the past few years"
   ]
  },
  {
   "cell_type": "code",
   "execution_count": 2,
   "id": "070c64f2",
   "metadata": {},
   "outputs": [
    {
     "data": {
      "text/html": [
       "<div>\n",
       "<style scoped>\n",
       "    .dataframe tbody tr th:only-of-type {\n",
       "        vertical-align: middle;\n",
       "    }\n",
       "\n",
       "    .dataframe tbody tr th {\n",
       "        vertical-align: top;\n",
       "    }\n",
       "\n",
       "    .dataframe thead th {\n",
       "        text-align: right;\n",
       "    }\n",
       "</style>\n",
       "<table border=\"1\" class=\"dataframe\">\n",
       "  <thead>\n",
       "    <tr style=\"text-align: right;\">\n",
       "      <th></th>\n",
       "      <th>R&amp;D Spend</th>\n",
       "      <th>Administration</th>\n",
       "      <th>Marketing Spend</th>\n",
       "      <th>State</th>\n",
       "      <th>Profit</th>\n",
       "    </tr>\n",
       "  </thead>\n",
       "  <tbody>\n",
       "    <tr>\n",
       "      <th>0</th>\n",
       "      <td>165349.20</td>\n",
       "      <td>136897.80</td>\n",
       "      <td>471784.10</td>\n",
       "      <td>New York</td>\n",
       "      <td>192261.83</td>\n",
       "    </tr>\n",
       "    <tr>\n",
       "      <th>1</th>\n",
       "      <td>162597.70</td>\n",
       "      <td>151377.59</td>\n",
       "      <td>443898.53</td>\n",
       "      <td>California</td>\n",
       "      <td>191792.06</td>\n",
       "    </tr>\n",
       "    <tr>\n",
       "      <th>2</th>\n",
       "      <td>153441.51</td>\n",
       "      <td>101145.55</td>\n",
       "      <td>407934.54</td>\n",
       "      <td>Florida</td>\n",
       "      <td>191050.39</td>\n",
       "    </tr>\n",
       "    <tr>\n",
       "      <th>3</th>\n",
       "      <td>144372.41</td>\n",
       "      <td>118671.85</td>\n",
       "      <td>383199.62</td>\n",
       "      <td>New York</td>\n",
       "      <td>182901.99</td>\n",
       "    </tr>\n",
       "    <tr>\n",
       "      <th>4</th>\n",
       "      <td>142107.34</td>\n",
       "      <td>91391.77</td>\n",
       "      <td>366168.42</td>\n",
       "      <td>Florida</td>\n",
       "      <td>166187.94</td>\n",
       "    </tr>\n",
       "  </tbody>\n",
       "</table>\n",
       "</div>"
      ],
      "text/plain": [
       "   R&D Spend  Administration  Marketing Spend       State     Profit\n",
       "0  165349.20       136897.80        471784.10    New York  192261.83\n",
       "1  162597.70       151377.59        443898.53  California  191792.06\n",
       "2  153441.51       101145.55        407934.54     Florida  191050.39\n",
       "3  144372.41       118671.85        383199.62    New York  182901.99\n",
       "4  142107.34        91391.77        366168.42     Florida  166187.94"
      ]
     },
     "execution_count": 2,
     "metadata": {},
     "output_type": "execute_result"
    }
   ],
   "source": [
    "#Importing dataset\n",
    "data=pd.read_csv('50_Startups.csv')\n",
    "data.head()"
   ]
  },
  {
   "cell_type": "code",
   "execution_count": 3,
   "id": "877dcfca",
   "metadata": {},
   "outputs": [
    {
     "name": "stdout",
     "output_type": "stream",
     "text": [
      "Number of Rows and Columns (50, 5)\n"
     ]
    }
   ],
   "source": [
    "print('Number of Rows and Columns {}'.format(data.shape))"
   ]
  },
  {
   "cell_type": "code",
   "execution_count": 4,
   "id": "588855b8",
   "metadata": {},
   "outputs": [
    {
     "data": {
      "text/html": [
       "<div>\n",
       "<style scoped>\n",
       "    .dataframe tbody tr th:only-of-type {\n",
       "        vertical-align: middle;\n",
       "    }\n",
       "\n",
       "    .dataframe tbody tr th {\n",
       "        vertical-align: top;\n",
       "    }\n",
       "\n",
       "    .dataframe thead th {\n",
       "        text-align: right;\n",
       "    }\n",
       "</style>\n",
       "<table border=\"1\" class=\"dataframe\">\n",
       "  <thead>\n",
       "    <tr style=\"text-align: right;\">\n",
       "      <th></th>\n",
       "      <th>R&amp;D Spend</th>\n",
       "      <th>Administration</th>\n",
       "      <th>Marketing Spend</th>\n",
       "      <th>Profit</th>\n",
       "    </tr>\n",
       "  </thead>\n",
       "  <tbody>\n",
       "    <tr>\n",
       "      <th>count</th>\n",
       "      <td>50.000000</td>\n",
       "      <td>50.000000</td>\n",
       "      <td>50.000000</td>\n",
       "      <td>50.000000</td>\n",
       "    </tr>\n",
       "    <tr>\n",
       "      <th>mean</th>\n",
       "      <td>73721.615600</td>\n",
       "      <td>121344.639600</td>\n",
       "      <td>211025.097800</td>\n",
       "      <td>112012.639200</td>\n",
       "    </tr>\n",
       "    <tr>\n",
       "      <th>std</th>\n",
       "      <td>45902.256482</td>\n",
       "      <td>28017.802755</td>\n",
       "      <td>122290.310726</td>\n",
       "      <td>40306.180338</td>\n",
       "    </tr>\n",
       "    <tr>\n",
       "      <th>min</th>\n",
       "      <td>0.000000</td>\n",
       "      <td>51283.140000</td>\n",
       "      <td>0.000000</td>\n",
       "      <td>14681.400000</td>\n",
       "    </tr>\n",
       "    <tr>\n",
       "      <th>25%</th>\n",
       "      <td>39936.370000</td>\n",
       "      <td>103730.875000</td>\n",
       "      <td>129300.132500</td>\n",
       "      <td>90138.902500</td>\n",
       "    </tr>\n",
       "    <tr>\n",
       "      <th>50%</th>\n",
       "      <td>73051.080000</td>\n",
       "      <td>122699.795000</td>\n",
       "      <td>212716.240000</td>\n",
       "      <td>107978.190000</td>\n",
       "    </tr>\n",
       "    <tr>\n",
       "      <th>75%</th>\n",
       "      <td>101602.800000</td>\n",
       "      <td>144842.180000</td>\n",
       "      <td>299469.085000</td>\n",
       "      <td>139765.977500</td>\n",
       "    </tr>\n",
       "    <tr>\n",
       "      <th>max</th>\n",
       "      <td>165349.200000</td>\n",
       "      <td>182645.560000</td>\n",
       "      <td>471784.100000</td>\n",
       "      <td>192261.830000</td>\n",
       "    </tr>\n",
       "  </tbody>\n",
       "</table>\n",
       "</div>"
      ],
      "text/plain": [
       "           R&D Spend  Administration  Marketing Spend         Profit\n",
       "count      50.000000       50.000000        50.000000      50.000000\n",
       "mean    73721.615600   121344.639600    211025.097800  112012.639200\n",
       "std     45902.256482    28017.802755    122290.310726   40306.180338\n",
       "min         0.000000    51283.140000         0.000000   14681.400000\n",
       "25%     39936.370000   103730.875000    129300.132500   90138.902500\n",
       "50%     73051.080000   122699.795000    212716.240000  107978.190000\n",
       "75%    101602.800000   144842.180000    299469.085000  139765.977500\n",
       "max    165349.200000   182645.560000    471784.100000  192261.830000"
      ]
     },
     "execution_count": 4,
     "metadata": {},
     "output_type": "execute_result"
    }
   ],
   "source": [
    "#descriptive analysis\n",
    "data.describe()"
   ]
  },
  {
   "cell_type": "markdown",
   "id": "de13a13d",
   "metadata": {},
   "source": [
    "Observation: There are no Null Values in the Data set by reading Counts from Above"
   ]
  },
  {
   "cell_type": "code",
   "execution_count": 5,
   "id": "020fa682",
   "metadata": {},
   "outputs": [
    {
     "name": "stdout",
     "output_type": "stream",
     "text": [
      "<class 'pandas.core.frame.DataFrame'>\n",
      "RangeIndex: 50 entries, 0 to 49\n",
      "Data columns (total 5 columns):\n",
      " #   Column           Non-Null Count  Dtype  \n",
      "---  ------           --------------  -----  \n",
      " 0   R&D Spend        50 non-null     float64\n",
      " 1   Administration   50 non-null     float64\n",
      " 2   Marketing Spend  50 non-null     float64\n",
      " 3   State            50 non-null     object \n",
      " 4   Profit           50 non-null     float64\n",
      "dtypes: float64(4), object(1)\n",
      "memory usage: 2.1+ KB\n"
     ]
    }
   ],
   "source": [
    "#checking for data types\n",
    "data.info()"
   ]
  },
  {
   "cell_type": "markdown",
   "id": "2139002a",
   "metadata": {},
   "source": [
    "Observation: all the data types are correct\n",
    "\n",
    "Note: State is a Categorical feature we need to do some encoding or convert it into numerical values by putting dummy values"
   ]
  },
  {
   "cell_type": "code",
   "execution_count": 6,
   "id": "d633129c",
   "metadata": {},
   "outputs": [
    {
     "data": {
      "text/html": [
       "<div>\n",
       "<style scoped>\n",
       "    .dataframe tbody tr th:only-of-type {\n",
       "        vertical-align: middle;\n",
       "    }\n",
       "\n",
       "    .dataframe tbody tr th {\n",
       "        vertical-align: top;\n",
       "    }\n",
       "\n",
       "    .dataframe thead th {\n",
       "        text-align: right;\n",
       "    }\n",
       "</style>\n",
       "<table border=\"1\" class=\"dataframe\">\n",
       "  <thead>\n",
       "    <tr style=\"text-align: right;\">\n",
       "      <th></th>\n",
       "      <th>RnD</th>\n",
       "      <th>admin</th>\n",
       "      <th>marketing</th>\n",
       "      <th>state</th>\n",
       "      <th>profit</th>\n",
       "    </tr>\n",
       "  </thead>\n",
       "  <tbody>\n",
       "    <tr>\n",
       "      <th>0</th>\n",
       "      <td>165349.20</td>\n",
       "      <td>136897.80</td>\n",
       "      <td>471784.10</td>\n",
       "      <td>New York</td>\n",
       "      <td>192261.83</td>\n",
       "    </tr>\n",
       "    <tr>\n",
       "      <th>1</th>\n",
       "      <td>162597.70</td>\n",
       "      <td>151377.59</td>\n",
       "      <td>443898.53</td>\n",
       "      <td>California</td>\n",
       "      <td>191792.06</td>\n",
       "    </tr>\n",
       "    <tr>\n",
       "      <th>2</th>\n",
       "      <td>153441.51</td>\n",
       "      <td>101145.55</td>\n",
       "      <td>407934.54</td>\n",
       "      <td>Florida</td>\n",
       "      <td>191050.39</td>\n",
       "    </tr>\n",
       "    <tr>\n",
       "      <th>3</th>\n",
       "      <td>144372.41</td>\n",
       "      <td>118671.85</td>\n",
       "      <td>383199.62</td>\n",
       "      <td>New York</td>\n",
       "      <td>182901.99</td>\n",
       "    </tr>\n",
       "    <tr>\n",
       "      <th>4</th>\n",
       "      <td>142107.34</td>\n",
       "      <td>91391.77</td>\n",
       "      <td>366168.42</td>\n",
       "      <td>Florida</td>\n",
       "      <td>166187.94</td>\n",
       "    </tr>\n",
       "  </tbody>\n",
       "</table>\n",
       "</div>"
      ],
      "text/plain": [
       "         RnD      admin  marketing       state     profit\n",
       "0  165349.20  136897.80  471784.10    New York  192261.83\n",
       "1  162597.70  151377.59  443898.53  California  191792.06\n",
       "2  153441.51  101145.55  407934.54     Florida  191050.39\n",
       "3  144372.41  118671.85  383199.62    New York  182901.99\n",
       "4  142107.34   91391.77  366168.42     Florida  166187.94"
      ]
     },
     "execution_count": 6,
     "metadata": {},
     "output_type": "execute_result"
    }
   ],
   "source": [
    "#Renaming the columns name to reduce its length\n",
    "df=data.copy()\n",
    "df=df.rename({\"R&D Spend\":'RnD',\"Administration\":'admin',\"Marketing Spend\":'marketing',\"State\":'state',\"Profit\":'profit'},axis=1)\n",
    "df.head()"
   ]
  },
  {
   "cell_type": "code",
   "execution_count": 7,
   "id": "435da49c",
   "metadata": {},
   "outputs": [
    {
     "data": {
      "text/plain": [
       "RnD          0\n",
       "admin        0\n",
       "marketing    0\n",
       "state        0\n",
       "profit       0\n",
       "dtype: int64"
      ]
     },
     "execution_count": 7,
     "metadata": {},
     "output_type": "execute_result"
    }
   ],
   "source": [
    "#Checking for missing values\n",
    "df.isnull().sum()"
   ]
  },
  {
   "cell_type": "code",
   "execution_count": 8,
   "id": "05297752",
   "metadata": {},
   "outputs": [
    {
     "data": {
      "text/html": [
       "<div>\n",
       "<style scoped>\n",
       "    .dataframe tbody tr th:only-of-type {\n",
       "        vertical-align: middle;\n",
       "    }\n",
       "\n",
       "    .dataframe tbody tr th {\n",
       "        vertical-align: top;\n",
       "    }\n",
       "\n",
       "    .dataframe thead th {\n",
       "        text-align: right;\n",
       "    }\n",
       "</style>\n",
       "<table border=\"1\" class=\"dataframe\">\n",
       "  <thead>\n",
       "    <tr style=\"text-align: right;\">\n",
       "      <th></th>\n",
       "      <th>RnD</th>\n",
       "      <th>admin</th>\n",
       "      <th>marketing</th>\n",
       "      <th>state</th>\n",
       "      <th>profit</th>\n",
       "    </tr>\n",
       "  </thead>\n",
       "  <tbody>\n",
       "    <tr>\n",
       "      <th>19</th>\n",
       "      <td>86419.70</td>\n",
       "      <td>153514.11</td>\n",
       "      <td>0.00</td>\n",
       "      <td>New York</td>\n",
       "      <td>122776.86</td>\n",
       "    </tr>\n",
       "    <tr>\n",
       "      <th>47</th>\n",
       "      <td>0.00</td>\n",
       "      <td>135426.92</td>\n",
       "      <td>0.00</td>\n",
       "      <td>California</td>\n",
       "      <td>42559.73</td>\n",
       "    </tr>\n",
       "    <tr>\n",
       "      <th>47</th>\n",
       "      <td>0.00</td>\n",
       "      <td>135426.92</td>\n",
       "      <td>0.00</td>\n",
       "      <td>California</td>\n",
       "      <td>42559.73</td>\n",
       "    </tr>\n",
       "    <tr>\n",
       "      <th>48</th>\n",
       "      <td>542.05</td>\n",
       "      <td>51743.15</td>\n",
       "      <td>0.00</td>\n",
       "      <td>New York</td>\n",
       "      <td>35673.41</td>\n",
       "    </tr>\n",
       "    <tr>\n",
       "      <th>49</th>\n",
       "      <td>0.00</td>\n",
       "      <td>116983.80</td>\n",
       "      <td>45173.06</td>\n",
       "      <td>California</td>\n",
       "      <td>14681.40</td>\n",
       "    </tr>\n",
       "  </tbody>\n",
       "</table>\n",
       "</div>"
      ],
      "text/plain": [
       "         RnD      admin  marketing       state     profit\n",
       "19  86419.70  153514.11       0.00    New York  122776.86\n",
       "47      0.00  135426.92       0.00  California   42559.73\n",
       "47      0.00  135426.92       0.00  California   42559.73\n",
       "48    542.05   51743.15       0.00    New York   35673.41\n",
       "49      0.00  116983.80   45173.06  California   14681.40"
      ]
     },
     "execution_count": 8,
     "metadata": {},
     "output_type": "execute_result"
    }
   ],
   "source": [
    "df[df.values==0.0]"
   ]
  },
  {
   "cell_type": "markdown",
   "id": "a2326351",
   "metadata": {},
   "source": [
    "Note: Here the 0.00 values in marketing column is not considered as Null values"
   ]
  },
  {
   "cell_type": "code",
   "execution_count": 9,
   "id": "fb6aaa44",
   "metadata": {},
   "outputs": [
    {
     "data": {
      "text/plain": [
       "(0, 5)"
      ]
     },
     "execution_count": 9,
     "metadata": {},
     "output_type": "execute_result"
    }
   ],
   "source": [
    "#Checking for Duplicated Values\n",
    "df[df.duplicated()].shape"
   ]
  },
  {
   "cell_type": "code",
   "execution_count": 10,
   "id": "a6ebb75e",
   "metadata": {},
   "outputs": [
    {
     "data": {
      "text/plain": [
       "0     False\n",
       "1     False\n",
       "2     False\n",
       "3     False\n",
       "4     False\n",
       "5     False\n",
       "6     False\n",
       "7     False\n",
       "8     False\n",
       "9     False\n",
       "10    False\n",
       "11    False\n",
       "12    False\n",
       "13    False\n",
       "14    False\n",
       "15    False\n",
       "16    False\n",
       "17    False\n",
       "18    False\n",
       "19    False\n",
       "20    False\n",
       "21    False\n",
       "22    False\n",
       "23    False\n",
       "24    False\n",
       "25    False\n",
       "26    False\n",
       "27    False\n",
       "28    False\n",
       "29    False\n",
       "30    False\n",
       "31    False\n",
       "32    False\n",
       "33    False\n",
       "34    False\n",
       "35    False\n",
       "36    False\n",
       "37    False\n",
       "38    False\n",
       "39    False\n",
       "40    False\n",
       "41    False\n",
       "42    False\n",
       "43    False\n",
       "44    False\n",
       "45    False\n",
       "46    False\n",
       "47    False\n",
       "48    False\n",
       "49    False\n",
       "dtype: bool"
      ]
     },
     "execution_count": 10,
     "metadata": {},
     "output_type": "execute_result"
    }
   ],
   "source": [
    "df.duplicated()"
   ]
  },
  {
   "cell_type": "markdown",
   "id": "23b7dabb",
   "metadata": {},
   "source": [
    "There are no duplcate values in dataset"
   ]
  },
  {
   "cell_type": "markdown",
   "id": "58ab56b8",
   "metadata": {},
   "source": [
    "# Outlier Detection"
   ]
  },
  {
   "cell_type": "code",
   "execution_count": 11,
   "id": "9b0fd4b4",
   "metadata": {},
   "outputs": [
    {
     "data": {
      "image/png": "[encoded data removed]",
      "text/plain": [
       "<Figure size 800x800 with 1 Axes>"
      ]
     },
     "metadata": {},
     "output_type": "display_data"
    }
   ],
   "source": [
    "outliers = ['profit']\n",
    "plt.rcParams['figure.figsize'] = [8,8]\n",
    "\n",
    "sns.boxplot(data=df[outliers], orient=\"v\", palette=\"Set2\" , width=0.7)\n",
    "\n",
    "plt.title(\"Outliers Variable Distribution\")\n",
    "plt.ylabel(\"Profit Range\")\n",
    "plt.xlabel(\"Continuous Variable\")\n",
    " \n",
    "plt.show()"
   ]
  },
  {
   "cell_type": "markdown",
   "id": "9bfdf7d4",
   "metadata": {},
   "source": [
    "Some are outliers, but it’s not clear which one, so let’s plot the box plot relative to each state. We only need to pass the states column, and seaborn is smart enough to figure out the categories it has!"
   ]
  },
  {
   "cell_type": "code",
   "execution_count": 12,
   "id": "1d113a47",
   "metadata": {},
   "outputs": [
    {
     "data": {
      "image/png": "[encoded data removed]",
      "text/plain": [
       "<Figure size 800x800 with 1 Axes>"
      ]
     },
     "metadata": {},
     "output_type": "display_data"
    }
   ],
   "source": [
    "sns.boxplot(x = 'state', y = 'profit', data = df)\n",
    "plt.show()"
   ]
  },
  {
   "cell_type": "markdown",
   "id": "771351a9",
   "metadata": {},
   "source": [
    "Note: State is a categorical variable. It’s good to plot each category (NY, CA, FL) respective to profit."
   ]
  },
  {
   "cell_type": "markdown",
   "id": "efe27320",
   "metadata": {},
   "source": [
    "# Understanding Distribution"
   ]
  },
  {
   "cell_type": "code",
   "execution_count": 13,
   "id": "ed416c2d",
   "metadata": {},
   "outputs": [
    {
     "data": {
      "image/png": "[encoded data removed]",
      "text/plain": [
       "<Figure size 800x800 with 1 Axes>"
      ]
     },
     "metadata": {},
     "output_type": "display_data"
    }
   ],
   "source": [
    "sns.distplot(df['profit'],bins=5,kde=True)\n",
    "plt.show()"
   ]
  },
  {
   "cell_type": "markdown",
   "id": "bbab5967",
   "metadata": {},
   "source": [
    "# Data Preprocessing"
   ]
  },
  {
   "cell_type": "markdown",
   "id": "b0204f52",
   "metadata": {},
   "source": [
    "1.Creating Features And Labels"
   ]
  },
  {
   "cell_type": "code",
   "execution_count": 14,
   "id": "0184ea50",
   "metadata": {},
   "outputs": [
    {
     "name": "stdout",
     "output_type": "stream",
     "text": [
      "[[165349.2  136897.8  471784.1 ]\n",
      " [162597.7  151377.59 443898.53]\n",
      " [153441.51 101145.55 407934.54]\n",
      " [144372.41 118671.85 383199.62]\n",
      " [142107.34  91391.77 366168.42]\n",
      " [131876.9   99814.71 362861.36]\n",
      " [134615.46 147198.87 127716.82]\n",
      " [130298.13 145530.06 323876.68]\n",
      " [120542.52 148718.95 311613.29]\n",
      " [123334.88 108679.17 304981.62]\n",
      " [101913.08 110594.11 229160.95]\n",
      " [100671.96  91790.61 249744.55]\n",
      " [ 93863.75 127320.38 249839.44]\n",
      " [ 91992.39 135495.07 252664.93]\n",
      " [119943.24 156547.42 256512.92]\n",
      " [114523.61 122616.84 261776.23]\n",
      " [ 78013.11 121597.55 264346.06]\n",
      " [ 94657.16 145077.58 282574.31]\n",
      " [ 91749.16 114175.79 294919.57]\n",
      " [ 86419.7  153514.11      0.  ]\n",
      " [ 76253.86 113867.3  298664.47]\n",
      " [ 78389.47 153773.43 299737.29]\n",
      " [ 73994.56 122782.75 303319.26]\n",
      " [ 67532.53 105751.03 304768.73]\n",
      " [ 77044.01  99281.34 140574.81]\n",
      " [ 64664.71 139553.16 137962.62]\n",
      " [ 75328.87 144135.98 134050.07]\n",
      " [ 72107.6  127864.55 353183.81]\n",
      " [ 66051.52 182645.56 118148.2 ]\n",
      " [ 65605.48 153032.06 107138.38]\n",
      " [ 61994.48 115641.28  91131.24]\n",
      " [ 61136.38 152701.92  88218.23]\n",
      " [ 63408.86 129219.61  46085.25]\n",
      " [ 55493.95 103057.49 214634.81]\n",
      " [ 46426.07 157693.92 210797.67]\n",
      " [ 46014.02  85047.44 205517.64]\n",
      " [ 28663.76 127056.21 201126.82]\n",
      " [ 44069.95  51283.14 197029.42]\n",
      " [ 20229.59  65947.93 185265.1 ]\n",
      " [ 38558.51  82982.09 174999.3 ]\n",
      " [ 28754.33 118546.05 172795.67]\n",
      " [ 27892.92  84710.77 164470.71]\n",
      " [ 23640.93  96189.63 148001.11]\n",
      " [ 15505.73 127382.3   35534.17]\n",
      " [ 22177.74 154806.14  28334.72]\n",
      " [  1000.23 124153.04   1903.93]\n",
      " [  1315.46 115816.21 297114.46]\n",
      " [     0.   135426.92      0.  ]\n",
      " [   542.05  51743.15      0.  ]\n",
      " [     0.   116983.8   45173.06]]\n"
     ]
    }
   ],
   "source": [
    "# spliting Dataset in Dependent & Independent Variables\n",
    "X = df.iloc[:, :-2].values\n",
    "y = df.iloc[:, 4].values\n",
    "print(X)"
   ]
  },
  {
   "cell_type": "markdown",
   "id": "9527604b",
   "metadata": {},
   "source": [
    "2.Encoding Categories/Labels"
   ]
  },
  {
   "cell_type": "code",
   "execution_count": 15,
   "id": "41da4019",
   "metadata": {},
   "outputs": [
    {
     "data": {
      "text/html": [
       "<div>\n",
       "<style scoped>\n",
       "    .dataframe tbody tr th:only-of-type {\n",
       "        vertical-align: middle;\n",
       "    }\n",
       "\n",
       "    .dataframe tbody tr th {\n",
       "        vertical-align: top;\n",
       "    }\n",
       "\n",
       "    .dataframe thead th {\n",
       "        text-align: right;\n",
       "    }\n",
       "</style>\n",
       "<table border=\"1\" class=\"dataframe\">\n",
       "  <thead>\n",
       "    <tr style=\"text-align: right;\">\n",
       "      <th></th>\n",
       "      <th>0</th>\n",
       "      <th>1</th>\n",
       "      <th>2</th>\n",
       "    </tr>\n",
       "  </thead>\n",
       "  <tbody>\n",
       "    <tr>\n",
       "      <th>0</th>\n",
       "      <td>165349.20</td>\n",
       "      <td>136897.80</td>\n",
       "      <td>47.0</td>\n",
       "    </tr>\n",
       "    <tr>\n",
       "      <th>1</th>\n",
       "      <td>162597.70</td>\n",
       "      <td>151377.59</td>\n",
       "      <td>46.0</td>\n",
       "    </tr>\n",
       "    <tr>\n",
       "      <th>2</th>\n",
       "      <td>153441.51</td>\n",
       "      <td>101145.55</td>\n",
       "      <td>45.0</td>\n",
       "    </tr>\n",
       "    <tr>\n",
       "      <th>3</th>\n",
       "      <td>144372.41</td>\n",
       "      <td>118671.85</td>\n",
       "      <td>44.0</td>\n",
       "    </tr>\n",
       "    <tr>\n",
       "      <th>4</th>\n",
       "      <td>142107.34</td>\n",
       "      <td>91391.77</td>\n",
       "      <td>43.0</td>\n",
       "    </tr>\n",
       "  </tbody>\n",
       "</table>\n",
       "</div>"
      ],
      "text/plain": [
       "           0          1     2\n",
       "0  165349.20  136897.80  47.0\n",
       "1  162597.70  151377.59  46.0\n",
       "2  153441.51  101145.55  45.0\n",
       "3  144372.41  118671.85  44.0\n",
       "4  142107.34   91391.77  43.0"
      ]
     },
     "execution_count": 15,
     "metadata": {},
     "output_type": "execute_result"
    }
   ],
   "source": [
    "from sklearn.preprocessing import LabelEncoder\n",
    "\n",
    "labelencoder = LabelEncoder()\n",
    "X[:, 2] = labelencoder.fit_transform(X[:, 2])\n",
    "X1 = pd.DataFrame(X)\n",
    "X1.head()"
   ]
  },
  {
   "cell_type": "markdown",
   "id": "1380bac9",
   "metadata": {},
   "source": [
    "Note: 0,1,2 are numeric encoded labels for state category"
   ]
  },
  {
   "cell_type": "markdown",
   "id": "08625ee1",
   "metadata": {},
   "source": [
    "3.Train Test Split"
   ]
  },
  {
   "cell_type": "code",
   "execution_count": 16,
   "id": "7df1f7f2",
   "metadata": {},
   "outputs": [
    {
     "name": "stdout",
     "output_type": "stream",
     "text": [
      "[[1.3029813e+05 1.4553006e+05 4.0000000e+01]\n",
      " [1.1994324e+05 1.5654742e+05 2.8000000e+01]\n",
      " [1.0002300e+03 1.2415304e+05 1.0000000e+00]\n",
      " [5.4205000e+02 5.1743150e+04 0.0000000e+00]\n",
      " [6.5605480e+04 1.5303206e+05 8.0000000e+00]\n",
      " [1.1452361e+05 1.2261684e+05 2.9000000e+01]\n",
      " [6.1994480e+04 1.1564128e+05 7.0000000e+00]\n",
      " [6.3408860e+04 1.2921961e+05 5.0000000e+00]\n",
      " [7.8013110e+04 1.2159755e+05 3.0000000e+01]\n",
      " [2.3640930e+04 9.6189630e+04 1.4000000e+01]\n",
      " [7.6253860e+04 1.1386730e+05 3.4000000e+01]\n",
      " [1.5505730e+04 1.2738230e+05 3.0000000e+00]\n",
      " [1.2054252e+05 1.4871895e+05 3.9000000e+01]\n",
      " [9.1992390e+04 1.3549507e+05 2.7000000e+01]\n",
      " [6.4664710e+04 1.3955316e+05 1.2000000e+01]\n",
      " [1.3187690e+05 9.9814710e+04 4.2000000e+01]\n",
      " [9.4657160e+04 1.4507758e+05 3.1000000e+01]\n",
      " [2.8754330e+04 1.1854605e+05 1.6000000e+01]\n",
      " [0.0000000e+00 1.1698380e+05 4.0000000e+00]\n",
      " [1.6259770e+05 1.5137759e+05 4.6000000e+01]\n",
      " [9.3863750e+04 1.2732038e+05 2.6000000e+01]\n",
      " [4.4069950e+04 5.1283140e+04 1.9000000e+01]\n",
      " [7.7044010e+04 9.9281340e+04 1.3000000e+01]\n",
      " [1.3461546e+05 1.4719887e+05 1.0000000e+01]\n",
      " [6.7532530e+04 1.0575103e+05 3.7000000e+01]\n",
      " [2.8663760e+04 1.2705621e+05 2.0000000e+01]\n",
      " [7.8389470e+04 1.5377343e+05 3.5000000e+01]\n",
      " [8.6419700e+04 1.5351411e+05 0.0000000e+00]\n",
      " [1.2333488e+05 1.0867917e+05 3.8000000e+01]\n",
      " [3.8558510e+04 8.2982090e+04 1.7000000e+01]\n",
      " [1.3154600e+03 1.1581621e+05 3.3000000e+01]\n",
      " [1.4437241e+05 1.1867185e+05 4.4000000e+01]\n",
      " [1.6534920e+05 1.3689780e+05 4.7000000e+01]\n",
      " [0.0000000e+00 1.3542692e+05 0.0000000e+00]\n",
      " [2.2177740e+04 1.5480614e+05 2.0000000e+00]]\n"
     ]
    }
   ],
   "source": [
    "from sklearn.model_selection import train_test_split\n",
    " \n",
    "x_train,x_test,y_train,y_test = train_test_split(X,y,train_size=0.7,random_state=0) # performs the split\n",
    "\n",
    "print(x_train)"
   ]
  },
  {
   "cell_type": "markdown",
   "id": "594e30fa",
   "metadata": {},
   "source": [
    "X,y — actual data(features and labels)\n",
    "\n",
    "● train_size — defines the training size here 70% of data.\n",
    "\n",
    "● (x_train,x_test),(y_train,y_test) — Train and Test data features, Train and Test data Labels"
   ]
  },
  {
   "cell_type": "markdown",
   "id": "63a32c7d",
   "metadata": {},
   "source": [
    "# Model Development"
   ]
  },
  {
   "cell_type": "markdown",
   "id": "4586ea90",
   "metadata": {},
   "source": [
    "1. Selecting Model Architecture & Training"
   ]
  },
  {
   "cell_type": "code",
   "execution_count": 17,
   "id": "201ff79f",
   "metadata": {},
   "outputs": [
    {
     "name": "stdout",
     "output_type": "stream",
     "text": [
      "Model has been trained successfully\n"
     ]
    }
   ],
   "source": [
    "from sklearn.linear_model import LinearRegression\n",
    " \n",
    "model = LinearRegression()\n",
    "model.fit(x_train,y_train)\n",
    "print('Model has been trained successfully')"
   ]
  },
  {
   "cell_type": "markdown",
   "id": "6e5c40b4",
   "metadata": {},
   "source": [
    "2. Predicting Results"
   ]
  },
  {
   "cell_type": "code",
   "execution_count": 18,
   "id": "0bc7e0b0",
   "metadata": {},
   "outputs": [
    {
     "name": "stdout",
     "output_type": "stream",
     "text": [
      "[103365.65430448 132409.63159464 133669.58924177  71596.33493623\n",
      " 179574.8809234  114195.96899299  65656.85292429  97938.81018901\n",
      " 114412.29898539 169772.36831918  96050.9051499   87515.25731045\n",
      " 110242.6075272   90000.89195708 127479.23515393]\n"
     ]
    }
   ],
   "source": [
    "y_pred = model.predict(x_test)\n",
    "print(y_pred)"
   ]
  },
  {
   "cell_type": "markdown",
   "id": "4e7eb1a6",
   "metadata": {},
   "source": [
    "3. Evaluating Performance Based On Model Score"
   ]
  },
  {
   "cell_type": "code",
   "execution_count": 19,
   "id": "09ac843b",
   "metadata": {},
   "outputs": [
    {
     "name": "stdout",
     "output_type": "stream",
     "text": [
      "Model Score/Performance on Testing data 0.9324057207634493\n",
      "Model Score/Performance on Training data 0.9506671824404849\n"
     ]
    }
   ],
   "source": [
    "testing_data_model_score = model.score(x_test, y_test)\n",
    "print(\"Model Score/Performance on Testing data\",testing_data_model_score)\n",
    " \n",
    "training_data_model_score = model.score(x_train, y_train)\n",
    "print(\"Model Score/Performance on Training data\",training_data_model_score)"
   ]
  },
  {
   "cell_type": "markdown",
   "id": "8aec3f63",
   "metadata": {},
   "source": [
    "4. Evaluating Performance Based On Metrics"
   ]
  },
  {
   "cell_type": "markdown",
   "id": "094a9b80",
   "metadata": {},
   "source": [
    "● MAE- Mean Absolute Error similar to the above two but uses absolute value and does not penalize significant errors.\n",
    "\n",
    "● MSE — Mean Squared Error is a statistical measure that captures the error rate of the regression line fit. It penalizes the high errors but results in square units.\n",
    "\n",
    "● RMSE — Square root of MSE to ensure the same measurement units for better interoperability. (I consider it as best!)\n",
    "\n",
    "● R²- The person correlation coefficient, a statistical measure that describes the strength of association between 2 numerical variables (here prediction and actual values)"
   ]
  },
  {
   "cell_type": "code",
   "execution_count": 20,
   "id": "d5b742f5",
   "metadata": {},
   "outputs": [
    {
     "name": "stdout",
     "output_type": "stream",
     "text": [
      "Mean Absolute Error is : 6603.2386289610795\n"
     ]
    }
   ],
   "source": [
    "#MAE\n",
    "from sklearn.metrics import mean_absolute_error\n",
    " \n",
    "mae = mean_absolute_error(y_pred,y_test)\n",
    "print('Mean Absolute Error is :' ,mae)"
   ]
  },
  {
   "cell_type": "markdown",
   "id": "80bac327",
   "metadata": {},
   "source": [
    "The score of 6603 is due to the deviation errors as expected."
   ]
  },
  {
   "cell_type": "code",
   "execution_count": 21,
   "id": "192223f0",
   "metadata": {},
   "outputs": [
    {
     "name": "stdout",
     "output_type": "stream",
     "text": [
      "Mean Squarred Error is : 6524519362.317411\n"
     ]
    }
   ],
   "source": [
    "#MSE\n",
    "\n",
    "from sklearn.metrics import mean_squared_error\n",
    "mse = mean_squared_error(y_pred, y_test)\n",
    "print('Mean Squarred Error is :' ,mse*100)"
   ]
  },
  {
   "cell_type": "code",
   "execution_count": 22,
   "id": "ef10dda4",
   "metadata": {},
   "outputs": [
    {
     "name": "stdout",
     "output_type": "stream",
     "text": [
      "Root Mean Squarred Error is :  807744.9697966191\n"
     ]
    }
   ],
   "source": [
    "#RMSE\n",
    "\n",
    "rmse = np.sqrt(mean_squared_error(y_pred, y_test))\n",
    "print('Root Mean Squarred Error is : ',rmse*100)"
   ]
  },
  {
   "cell_type": "code",
   "execution_count": 23,
   "id": "b30762ad",
   "metadata": {},
   "outputs": [
    {
     "name": "stdout",
     "output_type": "stream",
     "text": [
      "R2 score of model is : 93.21346390789374\n"
     ]
    }
   ],
   "source": [
    "#R²\n",
    "\n",
    "from sklearn.metrics import r2_score\n",
    " \n",
    "r2Score = r2_score(y_pred, y_test)\n",
    "print('R2 score of model is :' ,r2Score*100)\n",
    "\n",
    "#multiplying by 100 insures we get a result between -100 to +100, instead of -1 to +"
   ]
  },
  {
   "cell_type": "markdown",
   "id": "aeaa2fb3",
   "metadata": {},
   "source": [
    "Pretty close to 1 — means positive linear relationship, or simple words good line fit(good model performance!)"
   ]
  },
  {
   "cell_type": "code",
   "execution_count": 24,
   "id": "9bb8106c",
   "metadata": {},
   "outputs": [
    {
     "name": "stdout",
     "output_type": "stream",
     "text": [
      "   Predicted value  Actual Value\n",
      "0    103365.654304     103282.38\n",
      "1    132409.631595     144259.40\n",
      "2    133669.589242     146121.95\n",
      "3     71596.334936      77798.83\n",
      "4    179574.880923     191050.39\n"
     ]
    }
   ],
   "source": [
    "#Confirming Hypothesis\n",
    "df = pd.DataFrame(data={'Predicted value':y_pred.flatten(),'Actual Value':y_test.flatten()})\n",
    "\n",
    "print(df.head())"
   ]
  },
  {
   "cell_type": "code",
   "execution_count": 25,
   "id": "58432d9c",
   "metadata": {},
   "outputs": [
    {
     "data": {
      "text/plain": [
       "<AxesSubplot:title={'center':'Actual vs Predicted'}, xlabel='Total cost', ylabel='Profit'>"
      ]
     },
     "execution_count": 25,
     "metadata": {},
     "output_type": "execute_result"
    },
    {
     "data": {
      "image/png": "[encoded data removed]",
      "text/plain": [
       "<Figure size 800x800 with 1 Axes>"
      ]
     },
     "metadata": {},
     "output_type": "display_data"
    }
   ],
   "source": [
    "plt.title('Actual vs Predicted')\n",
    "plt.xlabel('Total cost')\n",
    "plt.ylabel('Profit')\n",
    "sns.regplot(x=y_test, y=y_pred, data=df)"
   ]
  },
  {
   "cell_type": "markdown",
   "id": "e1856afc",
   "metadata": {},
   "source": [
    "As can be seen, the line fit is performing well. Finally, we have a good linear regression model with a decent line fit, as evident from scores, metrics, and graphs."
   ]
  },
  {
   "cell_type": "markdown",
   "id": "ae1d01c9",
   "metadata": {},
   "source": [
    "# Thank You!"
   ]
  }
 ],
 "metadata": {
  "kernelspec": {
   "display_name": "Python 3 (ipykernel)",
   "language": "python",
   "name": "python3"
  },
  "language_info": {
   "codemirror_mode": {
    "name": "ipython",
    "version": 3
   },
   "file_extension": ".py",
   "mimetype": "text/x-python",
   "name": "python",
   "nbconvert_exporter": "python",
   "pygments_lexer": "ipython3",
   "version": "3.9.13"
  }
 },
 "nbformat": 4,
 "nbformat_minor": 5
}
